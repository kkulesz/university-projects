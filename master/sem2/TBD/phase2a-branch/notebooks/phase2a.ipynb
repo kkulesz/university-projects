{
 "cells": [
  {
   "cell_type": "markdown",
   "id": "5961d95b-2b3b-48eb-bea2-d1aa6594aded",
   "metadata": {},
   "source": [
    "# Przygotowania - pobieranie danych itp."
   ]
  },
  {
   "cell_type": "code",
   "execution_count": 1,
   "id": "3c5353c7-a68b-4a77-9fc5-b164f0e1f0ca",
   "metadata": {},
   "outputs": [
    {
     "name": "stdout",
     "output_type": "stream",
     "text": [
      "Requirement already satisfied: googledrivedownloader in /opt/conda/lib/python3.10/site-packages (0.4)\n",
      "Note: you may need to restart the kernel to use updated packages.\n"
     ]
    }
   ],
   "source": [
    "pip install googledrivedownloader"
   ]
  },
  {
   "cell_type": "code",
   "execution_count": 2,
   "id": "5b1f274a-fbc5-43bf-9663-81a55053ed07",
   "metadata": {},
   "outputs": [],
   "source": [
    "from google_drive_downloader import GoogleDriveDownloader as gdd\n",
    "from pathlib import Path\n",
    "path_dir = str(Path.home()) + \"/data/2020/\"  # ustawmy sciezke na HOME/data/2020\n",
    "archive_dir = path_dir + \"survey.zip\"        # plik zapiszemy pod nazwa survey.zip\n",
    "\n",
    "gdd.download_file_from_google_drive(\n",
    "    file_id='1dfGerWeWkcyQ9GX9x20rdSGj7WtEpzBB',\n",
    "    dest_path=archive_dir,\n",
    "    unzip=True\n",
    ")\n",
    "\n",
    "csv_path = 'file:////home/jovyan/data/2020/survey_results_public.csv'"
   ]
  },
  {
   "cell_type": "code",
   "execution_count": 3,
   "id": "556dcf7e-f6f1-4614-8040-01dacb649713",
   "metadata": {},
   "outputs": [],
   "source": [
    "from pyspark.sql import SparkSession\n",
    "\n",
    "sparkSession = SparkSession \\\n",
    ".builder \\\n",
    ".config(\"spark.executor.instances\", \"1\")\\\n",
    ".config('spark.driver.memory','1g')\\\n",
    ".config('spark.executor.memory', '1g') \\\n",
    ".getOrCreate()\n",
    "\n",
    "df = sparkSession.read.csv(csv_path, inferSchema=True, header=\"true\", nullValue='NA', nanValue='NA',emptyValue='NA')"
   ]
  },
  {
   "cell_type": "markdown",
   "id": "f49d227e-93eb-4834-bd0a-ec9856c23d56",
   "metadata": {},
   "source": [
    "# Punkt 2a)"
   ]
  },
  {
   "cell_type": "code",
   "execution_count": 4,
   "id": "66c3fca6-1a0c-4b69-9559-3dd5ef855f36",
   "metadata": {},
   "outputs": [
    {
     "name": "stdout",
     "output_type": "stream",
     "text": [
      "+----------------------------------------------------------------------------------+\n",
      "|EdLevel                                                                           |\n",
      "+----------------------------------------------------------------------------------+\n",
      "|Primary/elementary school                                                         |\n",
      "|null                                                                              |\n",
      "|Other doctoral degree (Ph.D., Ed.D., etc.)                                        |\n",
      "|I never completed any formal education                                            |\n",
      "|Bachelor’s degree (B.A., B.S., B.Eng., etc.)                                      |\n",
      "|Associate degree (A.A., A.S., etc.)                                               |\n",
      "|Secondary school (e.g. American high school, German Realschule or Gymnasium, etc.)|\n",
      "|Professional degree (JD, MD, etc.)                                                |\n",
      "|Master’s degree (M.A., M.S., M.Eng., MBA, etc.)                                   |\n",
      "|Some college/university study without earning a degree                            |\n",
      "+----------------------------------------------------------------------------------+\n",
      "\n"
     ]
    },
    {
     "data": {
      "text/plain": [
       "10"
      ]
     },
     "execution_count": 4,
     "metadata": {},
     "output_type": "execute_result"
    }
   ],
   "source": [
    "a_result = df.select(df.EdLevel).distinct()\n",
    "a_result.show(truncate = False)\n",
    "\n",
    "a_result.count()"
   ]
  },
  {
   "cell_type": "markdown",
   "id": "0ceb06f6-9e5e-41f8-9980-3145fbb4ef9e",
   "metadata": {
    "tags": []
   },
   "source": [
    "### Odpowiedź: 10, ale jedna jest nullem"
   ]
  },
  {
   "cell_type": "markdown",
   "id": "89a385c8-d56b-46b7-8b6e-c762f7e87adf",
   "metadata": {},
   "source": [
    "# Punkt 2b)"
   ]
  },
  {
   "cell_type": "code",
   "execution_count": 5,
   "id": "df37f200-5cd8-4f91-a0af-0f28e28b553e",
   "metadata": {},
   "outputs": [
    {
     "name": "stdout",
     "output_type": "stream",
     "text": [
      "+------------------------------------+------------------+\n",
      "|Country                             |avg(WorkWeekHrs)  |\n",
      "+------------------------------------+------------------+\n",
      "|Senegal                             |34.285714285714285|\n",
      "|Sweden                              |40.7496062992126  |\n",
      "|Hong Kong (S.A.R.)                  |42.298507462686565|\n",
      "|Republic of Korea                   |35.138888888888886|\n",
      "|Philippines                         |37.32920792079208 |\n",
      "|Singapore                           |40.25684931506849 |\n",
      "|Turkey                              |43.77202643171806 |\n",
      "|Iraq                                |49.07142857142857 |\n",
      "|Germany                             |40.27298744460857 |\n",
      "|Afghanistan                         |46.5              |\n",
      "|Jordan                              |45.806451612903224|\n",
      "|Sudan                               |36.714285714285715|\n",
      "|France                              |40.38484399375975 |\n",
      "|Greece                              |41.82364341085271 |\n",
      "|Sri Lanka                           |40.61224489795919 |\n",
      "|Taiwan                              |40.67032967032967 |\n",
      "|Algeria                             |36.86206896551724 |\n",
      "|Slovakia                            |43.06153846153846 |\n",
      "|Venezuela, Bolivarian Republic of...|40.1219512195122  |\n",
      "|Argentina                           |38.36             |\n",
      "+------------------------------------+------------------+\n",
      "only showing top 20 rows\n",
      "\n"
     ]
    }
   ],
   "source": [
    "from pyspark.sql.functions import *\n",
    "b_result = df.groupBy(\"Country\").avg(\"WorkWeekHrs\")\n",
    "b_result.show(truncate=False)"
   ]
  },
  {
   "cell_type": "markdown",
   "id": "b77dbad1-e29d-4e96-ac56-e17ae8a8827b",
   "metadata": {},
   "source": [
    "Aby pokazać wszystkie państwa, można użyć argumentu metody show, na przykład:  \n",
    "b_result.show(b_result.count())  \n",
    "pokaże wszystkie 184 wiersze.  "
   ]
  },
  {
   "cell_type": "markdown",
   "id": "2004c809-28ba-455e-9c00-62b64d61660f",
   "metadata": {},
   "source": [
    "# Punkt 2c)"
   ]
  },
  {
   "cell_type": "code",
   "execution_count": 6,
   "id": "5d575d4f-a942-4431-9c1e-cfd849f05137",
   "metadata": {
    "tags": []
   },
   "outputs": [
    {
     "data": {
      "image/png": "[encoded data removed]",
      "text/plain": [
       "<Figure size 640x480 with 1 Axes>"
      ]
     },
     "metadata": {},
     "output_type": "display_data"
    }
   ],
   "source": [
    "filtered = df \\\n",
    ".filter(\"YearsCodePro > 0 and DataBaseWorkedWith is not null and Hobbyist = false\") \\\n",
    ".select(\"DatabaseWorkedWith\")\n",
    "\n",
    "\n",
    "splitted = filtered.select(\n",
    "    split(filtered.DatabaseWorkedWith, \";\")\n",
    "    .alias(\"splitted\")\n",
    ")\n",
    "\n",
    "single_dbs = splitted.select(\n",
    "    posexplode(splitted.splitted)\n",
    ") \\\n",
    ".drop(\"pos\") \\\n",
    ".withColumnRenamed(\"col\", \"db\")\n",
    "\n",
    "counted = single_dbs.groupBy(\"db\").count().sort(col(\"count\").desc()).toPandas()\n",
    "counted.plot.bar(x='db', y=\"count\");"
   ]
  },
  {
   "cell_type": "markdown",
   "id": "1fdcc14e-189a-4525-b408-1aad90494a1c",
   "metadata": {},
   "source": [
    "# Punkt 2d)"
   ]
  },
  {
   "cell_type": "code",
   "execution_count": 7,
   "id": "5ab87153-168b-44f6-92a7-c6bbe0203659",
   "metadata": {},
   "outputs": [],
   "source": [
    "db_name = 'base'\n",
    "table_name = 'survey'"
   ]
  },
  {
   "cell_type": "code",
   "execution_count": 8,
   "id": "a4333130-8fd4-463d-8474-4ddfbb4877b9",
   "metadata": {},
   "outputs": [],
   "source": [
    "sparkSession.sql(f'DROP DATABASE IF EXISTS {db_name} CASCADE')\n",
    "sparkSession.sql(f'CREATE DATABASE {db_name}')\n",
    "sparkSession.sql(f'USE {db_name}')\n",
    "\n",
    "sparkSession.sql(f'DROP TABLE IF EXISTS {table_name}')\n",
    "sparkSession.sql(f'CREATE TABLE IF NOT EXISTS {table_name} \\\n",
    "          USING csv \\\n",
    "          OPTIONS (HEADER true, INFERSCHEMA true, NULLVALUE \"NA\") \\\n",
    "          LOCATION \"{csv_path}\"');"
   ]
  },
  {
   "cell_type": "code",
   "execution_count": 9,
   "id": "d86f2e25-28af-44bb-ac65-4fbe494a1150",
   "metadata": {},
   "outputs": [],
   "source": [
    "spark_df = sparkSession.sql(f'SELECT *, CAST((convertedComp > 60000) AS STRING) AS compAboveAvg \\\n",
    "                    FROM {table_name} where convertedComp IS NOT NULL ')\n",
    "\n",
    "y = 'compAboveAvg'"
   ]
  },
  {
   "cell_type": "markdown",
   "id": "6e787dd7-84d5-4910-9337-234cb1a69502",
   "metadata": {
    "tags": []
   },
   "source": [
    "### Wybrane zostały inne cechy niż w oryginalnym notatniku:"
   ]
  },
  {
   "cell_type": "code",
   "execution_count": 10,
   "id": "b59def80-cf94-4a6d-8c8c-fc88cad8b20e",
   "metadata": {},
   "outputs": [],
   "source": [
    "feature_columns = ['OpSys', 'EdLevel', 'MainBranch' , 'Country', 'YearsCode', 'Age1stCode', 'JobSeek', 'NEWLearn', 'NEWOvertime', 'YearsCodePro']\n",
    "quantitative_columns = []"
   ]
  },
  {
   "cell_type": "markdown",
   "id": "c39f17d9-0728-4609-ada7-cc3bc085dc02",
   "metadata": {},
   "source": [
    "### Zbadany został stosunek liczności klas:"
   ]
  },
  {
   "cell_type": "code",
   "execution_count": 11,
   "id": "61f37de1-d655-4f18-8a8b-def45f9dacce",
   "metadata": {},
   "outputs": [
    {
     "name": "stdout",
     "output_type": "stream",
     "text": [
      "class ratio: 0.8084187522763931\n"
     ]
    }
   ],
   "source": [
    "major_df = spark_df.filter(col(y) == True)\n",
    "minor_df = spark_df.filter(col(y) == False)\n",
    "ratio = major_df.count()/minor_df.count()\n",
    "print(\"class ratio: {}\".format(ratio))"
   ]
  },
  {
   "cell_type": "markdown",
   "id": "f8f41dc1-b969-4ec3-964f-ff6f2aa8f295",
   "metadata": {},
   "source": [
    "##### Stosunek wynosi około 4:5, więc klasy są całkiem dobrze zbalansowane."
   ]
  },
  {
   "cell_type": "code",
   "execution_count": 12,
   "id": "d159bd0f-0282-486c-9132-745f0a92c8d6",
   "metadata": {},
   "outputs": [],
   "source": [
    "from pyspark.ml.feature import StringIndexer, OneHotEncoder, VectorAssembler\n",
    "from pyspark.ml import Pipeline"
   ]
  },
  {
   "cell_type": "code",
   "execution_count": 13,
   "id": "6cdbae2a-b36a-4302-81e8-2055c4aaec99",
   "metadata": {},
   "outputs": [],
   "source": [
    "stringindexer_stages = [StringIndexer(inputCol=c, outputCol='stringindexed_' + c).setHandleInvalid(\"keep\") for c in feature_columns]\n",
    "stringindexer_stages += [StringIndexer(inputCol=y, outputCol='label')]\n",
    "\n",
    "onehotencoder_stages = [OneHotEncoder(inputCol='stringindexed_' + c, outputCol='onehot_' + c) for c in feature_columns]\n",
    "\n",
    "extracted_columns = ['onehot_' + c for c in feature_columns]\n",
    "extracted_columns += quantitative_columns\n",
    "vectorassembler_stage = VectorAssembler(inputCols=extracted_columns, outputCol='features') "
   ]
  },
  {
   "cell_type": "markdown",
   "id": "2652aa0e-a067-4087-997a-44505e3db84e",
   "metadata": {},
   "source": [
    "### Próby użycia selekcji cech nie przyniosły rezultatów, model dawał lepsze wyniki przy ręcznej selekcji większej liczby atrybutów"
   ]
  },
  {
   "cell_type": "code",
   "execution_count": 14,
   "id": "42321064-9d6f-4cf7-b672-ce97fce0ccc5",
   "metadata": {},
   "outputs": [],
   "source": [
    "#from pyspark.ml.feature import ChiSqSelector\n",
    "#selector=ChiSqSelector(featuresCol=\"features\", outputCol=\"selectedFeatures\", labelCol= \"label\", numTopFeatures=10)"
   ]
  },
  {
   "cell_type": "code",
   "execution_count": 15,
   "id": "5fdb88bc-16de-431c-83ae-54b1c59f113b",
   "metadata": {},
   "outputs": [],
   "source": [
    "final_columns = extracted_columns + ['features', y, 'label']"
   ]
  },
  {
   "cell_type": "code",
   "execution_count": 16,
   "id": "f5982528-7d05-4a08-af7e-737d3e3485dd",
   "metadata": {},
   "outputs": [],
   "source": [
    "pipelined_df = Pipeline(stages=stringindexer_stages + onehotencoder_stages + [vectorassembler_stage]).fit(spark_df).transform(spark_df)\n",
    "\n",
    "training, test = pipelined_df.randomSplit([0.8, 0.2], seed=5)"
   ]
  },
  {
   "cell_type": "markdown",
   "id": "a84e911e-b369-43da-96ba-de351808205f",
   "metadata": {},
   "source": [
    "# Trenowanie modelu:"
   ]
  },
  {
   "cell_type": "markdown",
   "id": "6258bf06-08a7-484b-a325-73d91a7b1eca",
   "metadata": {},
   "source": [
    "### Wybrany został model Gradient-Boosted Trees (GBT), użyty został większy parametr maxIter oraz maxDepth"
   ]
  },
  {
   "cell_type": "code",
   "execution_count": 17,
   "id": "c5af3326-ad02-43f9-a56c-901f347b6b5a",
   "metadata": {},
   "outputs": [],
   "source": [
    "from pyspark.ml.classification import GBTClassifier\n",
    "gbt = GBTClassifier(labelCol=\"label\", featuresCol=\"features\", maxIter = 30, maxDepth=8)\n",
    "model = gbt.fit(training)"
   ]
  },
  {
   "cell_type": "code",
   "execution_count": 18,
   "id": "e55081a8-3af3-4581-b20e-a9eae4f48b3a",
   "metadata": {},
   "outputs": [
    {
     "data": {
      "text/html": [
       "<div>\n",
       "<style scoped>\n",
       "    .dataframe tbody tr th:only-of-type {\n",
       "        vertical-align: middle;\n",
       "    }\n",
       "\n",
       "    .dataframe tbody tr th {\n",
       "        vertical-align: top;\n",
       "    }\n",
       "\n",
       "    .dataframe thead th {\n",
       "        text-align: right;\n",
       "    }\n",
       "</style>\n",
       "<table border=\"1\" class=\"dataframe\">\n",
       "  <thead>\n",
       "    <tr style=\"text-align: right;\">\n",
       "      <th></th>\n",
       "      <th>label</th>\n",
       "      <th>prediction</th>\n",
       "      <th>count</th>\n",
       "    </tr>\n",
       "  </thead>\n",
       "  <tbody>\n",
       "    <tr>\n",
       "      <th>0</th>\n",
       "      <td>1.0</td>\n",
       "      <td>1.0</td>\n",
       "      <td>2495</td>\n",
       "    </tr>\n",
       "    <tr>\n",
       "      <th>1</th>\n",
       "      <td>0.0</td>\n",
       "      <td>1.0</td>\n",
       "      <td>500</td>\n",
       "    </tr>\n",
       "    <tr>\n",
       "      <th>2</th>\n",
       "      <td>1.0</td>\n",
       "      <td>0.0</td>\n",
       "      <td>580</td>\n",
       "    </tr>\n",
       "    <tr>\n",
       "      <th>3</th>\n",
       "      <td>0.0</td>\n",
       "      <td>0.0</td>\n",
       "      <td>3376</td>\n",
       "    </tr>\n",
       "  </tbody>\n",
       "</table>\n",
       "</div>"
      ],
      "text/plain": [
       "   label  prediction  count\n",
       "0    1.0         1.0   2495\n",
       "1    0.0         1.0    500\n",
       "2    1.0         0.0    580\n",
       "3    0.0         0.0   3376"
      ]
     },
     "execution_count": 18,
     "metadata": {},
     "output_type": "execute_result"
    }
   ],
   "source": [
    "prediction = model.transform(test)\n",
    "\n",
    "label_and_pred = prediction.select('label', 'prediction')\n",
    "label_and_pred.groupBy('label', 'prediction').count().toPandas()"
   ]
  },
  {
   "cell_type": "code",
   "execution_count": 19,
   "id": "8150b0b5-7714-4f56-9099-a1642b9c87ff",
   "metadata": {
    "tags": []
   },
   "outputs": [
    {
     "data": {
      "text/plain": [
       "0.9130518848532139"
      ]
     },
     "execution_count": 19,
     "metadata": {},
     "output_type": "execute_result"
    }
   ],
   "source": [
    "from pyspark.ml.evaluation import BinaryClassificationEvaluator\n",
    "from pyspark.mllib.evaluation import BinaryClassificationMetrics\n",
    "evaluator = BinaryClassificationEvaluator(rawPredictionCol=\"rawPrediction\", metricName=\"areaUnderROC\")\n",
    "\n",
    "evaluator.evaluate(prediction)"
   ]
  },
  {
   "cell_type": "markdown",
   "id": "19020fa2-c1f1-4fc2-8522-b4a8f11884f3",
   "metadata": {},
   "source": [
    "# Ostateczne wyniki naszego modelu:  \n",
    "## Gradient Boosted Trees z inaczej dobranymi cechami i hiperparametrami\n",
    "AUC = 0.9131  \n",
    "\n",
    "Jest to wynik lepszy niż każdy z wcześniejszych modeli z notatnika ml.ipynb:  \n",
    "0.6139 (dla DecisionTreeClassifier)  \n",
    "0.6784 (dla DecisionTreeClassifier z walidacją krzyżową)  \n",
    "0.8838 (dla GBT)  \n",
    "\n",
    "Ustawianie większej wartości parametru maxIter powoduje wzrost metryki auROC kosztem dłuższego czasu trenowania.  \n",
    "Dla maxIter > 30 czas trenowania jest już dość długi, a wzrost metryki minimalny.\n",
    "\n",
    "Parametr maxDepth został ręcznie wybrany na wartość 8, prawdopodobnie przy większych wartościach dochodzi do przeuczenia."
   ]
  },
  {
   "cell_type": "code",
   "execution_count": 20,
   "id": "654cf7e2-eae4-47fb-a1d3-8e8d9f24e6df",
   "metadata": {},
   "outputs": [],
   "source": [
    "sparkSession.stop()"
   ]
  }
 ],
 "metadata": {
  "kernelspec": {
   "display_name": "Python 3 (ipykernel)",
   "language": "python",
   "name": "python3"
  },
  "language_info": {
   "codemirror_mode": {
    "name": "ipython",
    "version": 3
   },
   "file_extension": ".py",
   "mimetype": "text/x-python",
   "name": "python",
   "nbconvert_exporter": "python",
   "pygments_lexer": "ipython3",
   "version": "3.10.8"
  }
 },
 "nbformat": 4,
 "nbformat_minor": 5
}
