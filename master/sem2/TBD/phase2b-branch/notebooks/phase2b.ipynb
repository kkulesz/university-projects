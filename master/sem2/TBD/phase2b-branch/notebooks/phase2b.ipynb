{
 "cells": [
  {
   "cell_type": "markdown",
   "metadata": {},
   "source": [
    "# Słowo wstępu\n",
    "\n",
    "Notatnik jest podzielony na trzy główne sekcje:\n",
    "- preprocessing - wykonany zbiorczo dla wszystkich modeli. Jeżeli jakiś model wymagał dodatkowej obróbki danych to została ona wykonana w jego sekcji. \n",
    "- regresja logistyczna:\n",
    "    - sekcje odpowiednio: definicja modeli, trening, ewaluacja, wizualizacja wyników, wnioski. Na końcu umieściliśmy walidację krzyżową - wykonaliśmy ją raz, obecnie jest zakomentowana.\n",
    "    - wykorzystano zbiór \"e6\" - największy \n",
    "- xgb:\n",
    "    - sekcje jw.\n",
    "    - wykorzystano zbiór średniej wielkości \"e5\"\n",
    "\n"
   ]
  },
  {
   "cell_type": "code",
   "execution_count": 1,
   "metadata": {
    "tags": []
   },
   "outputs": [
    {
     "name": "stdout",
     "output_type": "stream",
     "text": [
      "Requirement already satisfied: h2o_pysparkling_3.2 in /opt/conda/lib/python3.10/site-packages (3.38.0.4.post1)\n",
      "Requirement already satisfied: requests in /opt/conda/lib/python3.10/site-packages (from h2o_pysparkling_3.2) (2.28.1)\n",
      "Requirement already satisfied: tabulate in /opt/conda/lib/python3.10/site-packages (from h2o_pysparkling_3.2) (0.9.0)\n",
      "Requirement already satisfied: future in /opt/conda/lib/python3.10/site-packages (from h2o_pysparkling_3.2) (0.18.2)\n",
      "Requirement already satisfied: charset-normalizer<3,>=2 in /opt/conda/lib/python3.10/site-packages (from requests->h2o_pysparkling_3.2) (2.1.0)\n",
      "Requirement already satisfied: idna<4,>=2.5 in /opt/conda/lib/python3.10/site-packages (from requests->h2o_pysparkling_3.2) (3.3)\n",
      "Requirement already satisfied: certifi>=2017.4.17 in /opt/conda/lib/python3.10/site-packages (from requests->h2o_pysparkling_3.2) (2022.6.15)\n",
      "Requirement already satisfied: urllib3<1.27,>=1.21.1 in /opt/conda/lib/python3.10/site-packages (from requests->h2o_pysparkling_3.2) (1.26.9)\n",
      "Note: you may need to restart the kernel to use updated packages.\n"
     ]
    }
   ],
   "source": [
    "pip install h2o_pysparkling_3.2"
   ]
  },
  {
   "cell_type": "code",
   "execution_count": 1,
   "metadata": {
    "tags": []
   },
   "outputs": [
    {
     "name": "stdout",
     "output_type": "stream",
     "text": [
      "Connecting to H2O server at http://e3593c4630dc:54323 ... successful.\n"
     ]
    },
    {
     "data": {
      "text/html": [
       "\n",
       "<style>\n",
       "\n",
       "#h2o-table-1.h2o-container {\n",
       "  overflow-x: auto;\n",
       "}\n",
       "#h2o-table-1 .h2o-table {\n",
       "  /* width: 100%; */\n",
       "  margin-top: 1em;\n",
       "  margin-bottom: 1em;\n",
       "}\n",
       "#h2o-table-1 .h2o-table caption {\n",
       "  white-space: nowrap;\n",
       "  caption-side: top;\n",
       "  text-align: left;\n",
       "  /* margin-left: 1em; */\n",
       "  margin: 0;\n",
       "  font-size: larger;\n",
       "}\n",
       "#h2o-table-1 .h2o-table thead {\n",
       "  white-space: nowrap; \n",
       "  position: sticky;\n",
       "  top: 0;\n",
       "  box-shadow: 0 -1px inset;\n",
       "}\n",
       "#h2o-table-1 .h2o-table tbody {\n",
       "  overflow: auto;\n",
       "}\n",
       "#h2o-table-1 .h2o-table th,\n",
       "#h2o-table-1 .h2o-table td {\n",
       "  text-align: right;\n",
       "  /* border: 1px solid; */\n",
       "}\n",
       "#h2o-table-1 .h2o-table tr:nth-child(even) {\n",
       "  /* background: #F5F5F5 */\n",
       "}\n",
       "\n",
       "</style>      \n",
       "<div id=\"h2o-table-1\" class=\"h2o-container\">\n",
       "  <table class=\"h2o-table\">\n",
       "    <caption></caption>\n",
       "    <thead></thead>\n",
       "    <tbody><tr><td>H2O_cluster_uptime:</td>\n",
       "<td>19 secs</td></tr>\n",
       "<tr><td>H2O_cluster_timezone:</td>\n",
       "<td>Etc/UTC</td></tr>\n",
       "<tr><td>H2O_data_parsing_timezone:</td>\n",
       "<td>UTC</td></tr>\n",
       "<tr><td>H2O_cluster_version:</td>\n",
       "<td>3.38.0.4</td></tr>\n",
       "<tr><td>H2O_cluster_version_age:</td>\n",
       "<td>3 days </td></tr>\n",
       "<tr><td>H2O_cluster_name:</td>\n",
       "<td>sparkling-water-jovyan_local-1673277815543</td></tr>\n",
       "<tr><td>H2O_cluster_total_nodes:</td>\n",
       "<td>1</td></tr>\n",
       "<tr><td>H2O_cluster_free_memory:</td>\n",
       "<td>1 Gb</td></tr>\n",
       "<tr><td>H2O_cluster_total_cores:</td>\n",
       "<td>12</td></tr>\n",
       "<tr><td>H2O_cluster_allowed_cores:</td>\n",
       "<td>6</td></tr>\n",
       "<tr><td>H2O_cluster_status:</td>\n",
       "<td>locked, healthy</td></tr>\n",
       "<tr><td>H2O_connection_url:</td>\n",
       "<td>http://e3593c4630dc:54323</td></tr>\n",
       "<tr><td>H2O_connection_proxy:</td>\n",
       "<td>null</td></tr>\n",
       "<tr><td>H2O_internal_security:</td>\n",
       "<td>False</td></tr>\n",
       "<tr><td>Python_version:</td>\n",
       "<td>3.10.5 final</td></tr></tbody>\n",
       "  </table>\n",
       "</div>\n"
      ],
      "text/plain": [
       "--------------------------  ------------------------------------------\n",
       "H2O_cluster_uptime:         19 secs\n",
       "H2O_cluster_timezone:       Etc/UTC\n",
       "H2O_data_parsing_timezone:  UTC\n",
       "H2O_cluster_version:        3.38.0.4\n",
       "H2O_cluster_version_age:    3 days\n",
       "H2O_cluster_name:           sparkling-water-jovyan_local-1673277815543\n",
       "H2O_cluster_total_nodes:    1\n",
       "H2O_cluster_free_memory:    1 Gb\n",
       "H2O_cluster_total_cores:    12\n",
       "H2O_cluster_allowed_cores:  6\n",
       "H2O_cluster_status:         locked, healthy\n",
       "H2O_connection_url:         http://e3593c4630dc:54323\n",
       "H2O_connection_proxy:       null\n",
       "H2O_internal_security:      False\n",
       "Python_version:             3.10.5 final\n",
       "--------------------------  ------------------------------------------"
      ]
     },
     "metadata": {},
     "output_type": "display_data"
    },
    {
     "name": "stdout",
     "output_type": "stream",
     "text": [
      "\n",
      "Sparkling Water Context:\n",
      " * Sparkling Water Version: 3.38.0.4-1-3.2\n",
      " * H2O name: sparkling-water-jovyan_local-1673277815543\n",
      " * cluster size: 1\n",
      " * list of used nodes:\n",
      "  (executorId, host, port)\n",
      "  ------------------------\n",
      "  (0,172.17.0.2,54321)\n",
      "  ------------------------\n",
      "\n",
      "  Open H2O Flow in browser: http://e3593c4630dc:54323 (CMD + click in Mac OSX)\n",
      "\n",
      "    \n"
     ]
    }
   ],
   "source": [
    "import pyspark\n",
    "num_of_threads = 6\n",
    "\n",
    "spark = pyspark.sql.SparkSession.builder.appName(\"tbd\") \\\n",
    "    .master(f\"local[{num_of_threads}]\") \\\n",
    "    .config(\"spark.jars.packages\", \"com.microsoft.azure:synapseml_2.12:0.9.5\") \\\n",
    "    .config(\"spark.jars.repositories\", \"https://mmlspark.azureedge.net/maven\") \\\n",
    "    .config(\"spark.executor.cores\", num_of_threads) \\\n",
    "    .getOrCreate()\n",
    "from pysparkling import *\n",
    "import h2o\n",
    "hc = H2OContext.getOrCreate()\n",
    "\n",
    "import pandas as pd"
   ]
  },
  {
   "cell_type": "markdown",
   "metadata": {
    "tags": []
   },
   "source": [
    "# Załadowanie danych do Spark DataFrame"
   ]
  },
  {
   "cell_type": "code",
   "execution_count": 2,
   "metadata": {},
   "outputs": [],
   "source": [
    "datafile = \"data/ds2-1e5.csv\"\n",
    "\n",
    "raw_df = spark.read.csv(datafile, inferSchema=\"True\", header=\"true\", nullValue='NA', nanValue='NA',emptyValue='NA')"
   ]
  },
  {
   "cell_type": "markdown",
   "metadata": {},
   "source": [
    "# Weryfikacja załadowanych danych"
   ]
  },
  {
   "cell_type": "code",
   "execution_count": 3,
   "metadata": {},
   "outputs": [],
   "source": [
    "# raw_df.describe().toPandas() #pokazuje (count, mean, stddev, min, max) dla każdej kolumny"
   ]
  },
  {
   "cell_type": "code",
   "execution_count": 4,
   "metadata": {},
   "outputs": [],
   "source": [
    "# raw_df.count() # 10 000"
   ]
  },
  {
   "cell_type": "code",
   "execution_count": 5,
   "metadata": {},
   "outputs": [],
   "source": [
    "# raw_df.printSchema()"
   ]
  },
  {
   "cell_type": "code",
   "execution_count": 6,
   "metadata": {},
   "outputs": [],
   "source": [
    "# raw_df.limit(10).select(\"Special_Conditions_at_Site\").toPandas()"
   ]
  },
  {
   "cell_type": "markdown",
   "metadata": {
    "tags": []
   },
   "source": [
    "# Przygotowywanie danych"
   ]
  },
  {
   "cell_type": "markdown",
   "metadata": {},
   "source": [
    "## Opis zbioru danych\n",
    "https://www.kaggle.com/code/devansodariya/uk-road-safety-accident-analysis/data\n",
    "##### **Po przeanalizowaniu zbioru danych odrzuciliśmy te kolumny:**\n",
    "V1, Accident_Index, Location_Easting_OSGR, Location_Northing_OSGR, Longitude, Latitude, Date, Time, Year, LSOA_of_Accident_Location, Local_Authority_(District), Local_Authority_(Highway), 1st_Road_Class, 1st_Road_Number, 2nd_Road_Class, 2nd_Road_Number, || Day_of_Week, Junction_Control, Special_Conditions_at_Site, Pedestrian_Crossing-Physical_Facilities, Pedestrian_Crossing-Human_Control\n",
    "\n",
    "\n",
    " \n",
    "##### **Ergo wybraliśmy te kolumny:**\n",
    "Police_Force,\n",
    "~~Accident_Severity~~,\n",
    "Number_of_Vehicles,\n",
    "Number_of_Casualties,\n",
    "Speed_limit,\n",
    "Light_Conditions,\n",
    "Weather_Conditions,\n",
    "Urban_or_Rural_Area,\n",
    "Carriageway_Hazards,\n",
    "Did_Police_Officer_Attend_Scene_of_Accident,\n",
    "Road_Surface_Conditions,\n",
    "Road_Type,\n",
    "Special_Conditions_at_Site\n",
    "\n",
    "##### **Uwaga: zdecydowaliśmy odrzucić kolumnę 'Accident_Severity' - podejrzewamy, że na jej podstawie powstała kolumna \"label\" i z uwzględnieniem jej otrzymywaliśmy 100% skuteczności**\n"
   ]
  },
  {
   "cell_type": "code",
   "execution_count": 7,
   "metadata": {},
   "outputs": [],
   "source": [
    "categorical_columns = [\n",
    "    \"Light_Conditions\", \"Weather_Conditions\", \n",
    "    \"Urban_or_Rural_Area\", \"Carriageway_Hazards\", \"Did_Police_Officer_Attend_Scene_of_Accident\", \n",
    "    \"Road_Surface_Conditions\", \"Road_Type\", \"Special_Conditions_at_Site\"\n",
    "]\n",
    "ordinal_columns = [\"Speed_limit\"] # quantative?\n",
    "quantative_columns = [\"Police_Force\", \"Number_of_Vehicles\", \"Number_of_Casualties\"]\n",
    "\n",
    "\n",
    "y_column = \"label\""
   ]
  },
  {
   "cell_type": "markdown",
   "metadata": {},
   "source": [
    "### Sprawdziliśmy stosunek klas i okazał się niezbalansowany. Spróbowaliśmy over- oraz undersamplingu, jednak skutek był mierny. AUROC pozostaje bardzo podobne, a Accuracy zdecydowanie się pogorszyło.\n"
   ]
  },
  {
   "cell_type": "code",
   "execution_count": 8,
   "metadata": {},
   "outputs": [
    {
     "name": "stdout",
     "output_type": "stream",
     "text": [
      "class ratio: 5.7150147730325\n"
     ]
    }
   ],
   "source": [
    "from pyspark.sql.functions import col, lit, explode, array\n",
    "major_df = raw_df.filter(col(\"label\") == 1)\n",
    "minor_df = raw_df.filter(col(\"label\") == 0)\n",
    "ratio = major_df.count()/minor_df.count()\n",
    "print(\"class ratio: {}\".format(ratio))\n",
    "\n",
    "# oversampled_df = minor_df.withColumn(\"dummy\", explode(array([lit(x) for x in range(int(ratio))]))).drop('dummy')\n",
    "# df = major_df.unionAll(oversampled_df)\n",
    "\n",
    "# sampled_majority_df = major_df.sample(False, 1/ratio)\n",
    "# df = sampled_majority_df.unionAll(minor_df)"
   ]
  },
  {
   "cell_type": "code",
   "execution_count": 9,
   "metadata": {},
   "outputs": [],
   "source": [
    "from pyspark.ml.feature import StringIndexer, OneHotEncoder, VectorAssembler"
   ]
  },
  {
   "cell_type": "code",
   "execution_count": 10,
   "metadata": {},
   "outputs": [],
   "source": [
    "stringindexer_stages = [StringIndexer(inputCol=c, outputCol='stringindexed_' + c).setHandleInvalid(\"keep\") for c in categorical_columns]\n",
    "onehotencoder_stages = [OneHotEncoder(inputCol='stringindexed_' + c, outputCol='onehot_' + c) for c in categorical_columns]"
   ]
  },
  {
   "cell_type": "code",
   "execution_count": 11,
   "metadata": {},
   "outputs": [],
   "source": [
    "# stringindexer_stages += [StringIndexer(inputCol=y_column, outputCol='label')]\n",
    "df = raw_df.withColumn(\"label\", raw_df.label.cast(\"float\"))\n",
    "# df.printSchema()"
   ]
  },
  {
   "cell_type": "code",
   "execution_count": 12,
   "metadata": {},
   "outputs": [],
   "source": [
    "extracted_columns = ['onehot_' + c for c in categorical_columns]\n",
    "extracted_columns += ordinal_columns\n",
    "extracted_columns += quantative_columns\n",
    "#extracted_columns\n"
   ]
  },
  {
   "cell_type": "code",
   "execution_count": 13,
   "metadata": {},
   "outputs": [],
   "source": [
    "vectorassembler_stage = VectorAssembler(inputCols=extracted_columns, outputCol='features') "
   ]
  },
  {
   "cell_type": "markdown",
   "metadata": {},
   "source": [
    "### Użyliśmy `UnivariateFeatureSelector`, jednak wynik był taki, że wybierał wszystkie kolumny, a gdy ustawiliśmy `.setSelectionThreshold` na dowolną wartość to skutecznośc modelu znacznie się pogarszała"
   ]
  },
  {
   "cell_type": "code",
   "execution_count": 14,
   "metadata": {},
   "outputs": [],
   "source": [
    "from pyspark.ml.feature import UnivariateFeatureSelector\n",
    "selector=UnivariateFeatureSelector(featuresCol=\"features\", outputCol=\"selectedFeatures\", labelCol= \"label\")\n",
    "selector=selector.setFeatureType(\"continuous\").setLabelType(\"continuous\")\n",
    "\n",
    "# num_features = 5\n",
    "# selector.setSelectionThreshold(5)"
   ]
  },
  {
   "cell_type": "code",
   "execution_count": 15,
   "metadata": {},
   "outputs": [],
   "source": [
    "final_columns = extracted_columns + ['features', 'label']  + [\"selectedFeatures\"]\n",
    "\n",
    "from pyspark.ml import Pipeline\n",
    "transformed_df = Pipeline(\n",
    "    stages=stringindexer_stages + \\\n",
    "    onehotencoder_stages + \\\n",
    "    [vectorassembler_stage] + \\\n",
    "    [selector]\n",
    ").fit(df).transform(df).select(final_columns)"
   ]
  },
  {
   "cell_type": "code",
   "execution_count": 16,
   "metadata": {},
   "outputs": [
    {
     "data": {
      "text/plain": [
       "80109"
      ]
     },
     "execution_count": 16,
     "metadata": {},
     "output_type": "execute_result"
    }
   ],
   "source": [
    "training, test = transformed_df.randomSplit([0.8, 0.2], seed=1234)\n",
    "training.count()\n"
   ]
  },
  {
   "cell_type": "markdown",
   "metadata": {},
   "source": [
    "# **Regresja logistyczna**"
   ]
  },
  {
   "cell_type": "markdown",
   "metadata": {},
   "source": [
    "# **sparkML**"
   ]
  },
  {
   "cell_type": "code",
   "execution_count": 17,
   "metadata": {},
   "outputs": [],
   "source": [
    "from pyspark.ml.classification import LogisticRegression\n",
    "lr = LogisticRegression(featuresCol='selectedFeatures', labelCol='label')\n",
    "simple_model = Pipeline(stages=[lr])\n"
   ]
  },
  {
   "cell_type": "markdown",
   "metadata": {},
   "source": [
    "# **H20 sparking water**"
   ]
  },
  {
   "cell_type": "code",
   "execution_count": 18,
   "metadata": {},
   "outputs": [],
   "source": [
    "from pysparkling.ml import H2OGLM\n",
    "from pyspark.ml import Pipeline, Transformer\n",
    "from pyspark.sql import DataFrame\n",
    "from pyspark.sql.functions import udf, round\n",
    "from pyspark.sql.types import ArrayType, DoubleType\n",
    "\n",
    "h2o_lr = H2OGLM(family=\"binomial\",\n",
    "     featuresCols=['selectedFeatures'],\n",
    "     labelCol='label',\n",
    "     computePValues=True,\n",
    "     removeCollinearCols=True, # te parametry też nie zmieniają wyniku niestety - przy badaniu wydajności mogą trochę spowalniać więc można False dać\n",
    "     balanceClasses=False, # wbudowane balansowanie klas też nic nie poprawia\n",
    "     lambdaValue=[0])\n",
    "\n",
    "make_raw_prediction = udf(lambda col1: col1[-1][-1], DoubleType())\n",
    "\n",
    "class H2OResultTransformer(Transformer):\n",
    "    def _transform(self, df: DataFrame) -> DataFrame:\n",
    "        new_df = df.withColumn('rawPrediction', make_raw_prediction(df.detailed_prediction))\n",
    "        new_df=new_df.withColumn(\"prediction\", round(df.prediction))\n",
    "        return new_df\n",
    "h2o_result_transformer = H2OResultTransformer()\n",
    "h2o_model = Pipeline(stages=[h2o_lr, h2o_result_transformer])"
   ]
  },
  {
   "cell_type": "markdown",
   "metadata": {},
   "source": [
    "# **sklearn**"
   ]
  },
  {
   "cell_type": "code",
   "execution_count": 19,
   "metadata": {},
   "outputs": [],
   "source": [
    "from sklearn.model_selection import train_test_split\n",
    "from sklearn.preprocessing import StandardScaler, OneHotEncoder\n",
    "from sklearn.compose import make_column_transformer\n",
    "from sklearn.pipeline import Pipeline\n",
    "from sklearn.linear_model import LogisticRegression\n",
    "# sklearn jest nierozproszony i działa na pandasowych dataframe'ach\n",
    "df_pd = df.toPandas()\n",
    "column_transformer  = make_column_transformer(\n",
    "                        (StandardScaler(), ordinal_columns + quantative_columns),\n",
    "                        (OneHotEncoder(), categorical_columns)\n",
    "                        )\n",
    "X = df_pd[categorical_columns + ordinal_columns + quantative_columns]\n",
    "y = df_pd[\"label\"] \n",
    "X = column_transformer.fit_transform(X)\n",
    "\n",
    "X_train, X_test, y_train, y_test = train_test_split(X, y, random_state=0, test_size=0.2)\n",
    "\n",
    "sklearn_model = LogisticRegression(random_state=0, max_iter=1000)"
   ]
  },
  {
   "cell_type": "markdown",
   "metadata": {},
   "source": [
    "# trening"
   ]
  },
  {
   "cell_type": "code",
   "execution_count": 20,
   "metadata": {},
   "outputs": [],
   "source": [
    "all_models = {\"spark_ml\": simple_model, \"h2o\": h2o_model, \"sklearn\": sklearn_model}"
   ]
  },
  {
   "cell_type": "code",
   "execution_count": 21,
   "metadata": {},
   "outputs": [],
   "source": [
    "import time\n",
    "lr_models_train_time = {\"n\": num_of_threads}\n",
    "lr_models_pred_time = {\"n\": num_of_threads}"
   ]
  },
  {
   "cell_type": "code",
   "execution_count": 22,
   "metadata": {},
   "outputs": [],
   "source": [
    "from joblib import parallel_backend\n",
    "\n",
    "for model in all_models:\n",
    "    start_time = time.time()\n",
    "    if model == 'sklearn':\n",
    "        with parallel_backend('threading', n_jobs=num_of_threads):\n",
    "            all_models[model] = all_models[model].fit(X_train, y_train)\n",
    "    else:\n",
    "        all_models[model] = all_models[model].fit(training)\n",
    "    lr_models_train_time[model] = time.time() - start_time\n"
   ]
  },
  {
   "cell_type": "markdown",
   "metadata": {},
   "source": [
    "# liczenie metryk"
   ]
  },
  {
   "cell_type": "code",
   "execution_count": 23,
   "metadata": {},
   "outputs": [],
   "source": [
    "from pyspark.ml.evaluation import BinaryClassificationEvaluator, MulticlassClassificationEvaluator\n",
    "evaluator_auroc = BinaryClassificationEvaluator(rawPredictionCol=\"rawPrediction\", metricName=\"areaUnderROC\")\n",
    "evaluator_acc = MulticlassClassificationEvaluator(labelCol=\"label\", predictionCol=\"prediction\", metricName=\"accuracy\")"
   ]
  },
  {
   "cell_type": "code",
   "execution_count": 24,
   "metadata": {},
   "outputs": [
    {
     "name": "stdout",
     "output_type": "stream",
     "text": [
      "MODEL: spark_ml AUROC: 0.6616050694221177 ACCURACY: 0.8529485697048916 CONFUSION MATRIX: \n",
      "   label  prediction  count\n",
      "0    1.0         0.0      6\n",
      "1    0.0         0.0      8\n",
      "2    1.0         1.0  16958\n",
      "3    0.0         1.0   2919\n",
      "MODEL: h2o AUROC: 0.6616176163401393 ACCURACY: 0.8529485697048916 CONFUSION MATRIX: \n",
      "   label  prediction  count\n",
      "0    1.0         1.0  16964\n",
      "1    0.0         1.0   2925\n",
      "2    0.0         0.0      2\n",
      "MODEL: sklearn AUROC: 0.6610312966323855 ACCURACY: 0.85435 CONFUSION MATRIX: \n",
      "   label  prediction  count\n",
      "0    1.0         1.0  17084\n",
      "1    0.0         1.0   2897\n",
      "2    1.0         0.0     16\n",
      "3    0.0         0.0      3\n"
     ]
    }
   ],
   "source": [
    "lr_df_metrics = pd.DataFrame()\n",
    "for model in all_models:\n",
    "    if model == 'sklearn':\n",
    "        pred_raw = all_models[model].predict_proba(X_test)\n",
    "        start_time = time.time()\n",
    "        with parallel_backend('threading', n_jobs=num_of_threads):\n",
    "            prediction = all_models[model].predict(X_test) \n",
    "        lr_models_pred_time[model] = time.time() - start_time\n",
    "        df = pd.DataFrame({'label': y_test, 'prediction': prediction, 'rawPrediction': pred_raw[:, 1]})\n",
    "        pred = spark.createDataFrame(df) \n",
    "    else:\n",
    "        start_time = time.time()\n",
    "        pred = all_models[model].transform(test)\n",
    "        lr_models_pred_time[model] = time.time() - start_time\n",
    "        \n",
    "    label_and_pred = pred.select('label', 'prediction', 'rawPrediction')\n",
    "    confusion_matrix = label_and_pred.groupBy('label', 'prediction').count().toPandas()\n",
    "    auroc = evaluator_auroc.evaluate(pred)\n",
    "    accuracy = evaluator_acc.evaluate(pred)\n",
    "    print(f\"MODEL: {model} AUROC: {auroc} ACCURACY: {accuracy} CONFUSION MATRIX: \")\n",
    "    print(confusion_matrix)\n",
    "    \n",
    "    metrics_dict = {'model': model, 'auroc': auroc, 'accuracy': accuracy}\n",
    "    lr_df_metrics = pd.concat([lr_df_metrics, pd.DataFrame([metrics_dict])], ignore_index=True)\n",
    "    \n",
    "# podobne wyniki oba modele prawie nigdy klasy 0 nie przewidują"
   ]
  },
  {
   "cell_type": "markdown",
   "metadata": {},
   "source": [
    "## Wizualizacja wyników dla logistic regression"
   ]
  },
  {
   "cell_type": "code",
   "execution_count": 25,
   "metadata": {},
   "outputs": [],
   "source": [
    "# print(lr_models_train_time)\n",
    "# print(lr_models_pred_time)"
   ]
  },
  {
   "cell_type": "code",
   "execution_count": 26,
   "metadata": {},
   "outputs": [],
   "source": [
    "# Policzone dla e6 - największego zbioru\n",
    "\n",
    "# dla N=1\n",
    "n_1_train = {'n': 1, 'spark_ml': 46.01359009742737, 'h2o': 49.321916341781616, 'sklearn': 19.82308268547058}\n",
    "n_1_predict = {'n': 1, 'spark_ml': 0.07959318161010742, 'h2o': 0.11019015312194824, 'sklearn': 0.0068895816802978516}\n",
    "\n",
    "# dla N=2\n",
    "n_2_train = {'n': 2, 'spark_ml': 42.42650747299194, 'h2o': 44.91001033782959, 'sklearn': 22.30406904220581}\n",
    "n_2_predict = {'n': 2, 'spark_ml': 0.050466060638427734, 'h2o': 0.13303804397583008, 'sklearn': 0.013264179229736328}\n",
    "\n",
    "# dla N=4\n",
    "n_4_train = {'n': 4, 'spark_ml': 27.77803087234497, 'h2o': 30.97897481918335, 'sklearn': 21.694002628326416}\n",
    "n_4_predict = {'n': 4, 'spark_ml': 0.061322689056396484, 'h2o': 0.13432788848876953, 'sklearn': 0.00652003288269043}\n",
    "\n",
    "# dla N=6(moja [*] )\n",
    "n_6_train = {'n': 6, 'spark_ml': 26.532278537750244, 'h2o': 30.43682885169983, 'sklearn': 21.10844326019287}\n",
    "n_6_predict = {'n': 6, 'spark_ml': 0.0473635196685791, 'h2o': 0.1381673812866211, 'sklearn': 0.009070634841918945}\n",
    "\n",
    "train_times = [n_1_train, n_2_train, n_4_train, n_6_train]\n",
    "predict_times = [n_1_predict, n_2_predict, n_4_predict, n_6_predict]"
   ]
  },
  {
   "cell_type": "code",
   "execution_count": 27,
   "metadata": {},
   "outputs": [],
   "source": [
    "df_train_times = pd.DataFrame()\n",
    "for r in train_times:\n",
    "    new_row_df = pd.DataFrame([r])\n",
    "    df_train_times = pd.concat([df_train_times, new_row_df], ignore_index=True)\n",
    "\n",
    "df_predict_times = pd.DataFrame()\n",
    "for r in predict_times:\n",
    "    new_row_df = pd.DataFrame([r])\n",
    "    df_predict_times = pd.concat([df_predict_times, new_row_df], ignore_index=True)"
   ]
  },
  {
   "cell_type": "code",
   "execution_count": 28,
   "metadata": {},
   "outputs": [],
   "source": [
    "import matplotlib.pyplot as plt"
   ]
  },
  {
   "cell_type": "code",
   "execution_count": 29,
   "metadata": {},
   "outputs": [
    {
     "data": {
      "image/png": "[encoded data removed]",
      "text/plain": [
       "<Figure size 432x288 with 1 Axes>"
      ]
     },
     "metadata": {
      "needs_background": "light"
     },
     "output_type": "display_data"
    }
   ],
   "source": [
    "_ = df_train_times.plot.bar(x='n', title='Czas treningu LR w zależności od liczby rdzeni')"
   ]
  },
  {
   "cell_type": "code",
   "execution_count": 30,
   "metadata": {},
   "outputs": [
    {
     "data": {
      "image/png": "[encoded data removed]",
      "text/plain": [
       "<Figure size 432x288 with 1 Axes>"
      ]
     },
     "metadata": {
      "needs_background": "light"
     },
     "output_type": "display_data"
    },
    {
     "data": {
      "image/png": "[encoded data removed]",
      "text/plain": [
       "<Figure size 432x288 with 1 Axes>"
      ]
     },
     "metadata": {
      "needs_background": "light"
     },
     "output_type": "display_data"
    }
   ],
   "source": [
    "_ = lr_df_metrics.plot.bar(x='model', y='accuracy', title='accuracy - LR', legend=None)\n",
    "_ = lr_df_metrics.plot.bar(x='model', y='auroc', title='AUROC - LR', legend=None)"
   ]
  },
  {
   "cell_type": "markdown",
   "metadata": {},
   "source": [
    "# **Wnioski dla logistic regression (pkt 5)**"
   ]
  },
  {
   "cell_type": "markdown",
   "metadata": {},
   "source": [
    "## punkt a) - które modele się lepiej skalują\n",
    "\n",
    "Zarówno modele `sparkMl` jak i `h20-sparkling-water` w fazie treningu skalują się podobnie. Ich czasy wykonania zmniejszają się podobnie wraz ze wzrastającą liczbą wątków. Czas LR z SparkML zmniejszył się o 42%, a czas treningu LR z H2O zmniejszył się o 38%. Zastanawiające jest, że o ile czas predykcji SparkML analogicznie zmalał o 41%, to czas predykcji H2O nawet wzrasta wraz dodatkową liczbą wątków. Różnica w czasie predykcji na jednym wątku pomiędzy tymi dwiema implementacjami wynosiła 0.03s na korzyść SparkML, a dla 6 wątków już 0.09s.\n",
    "\n",
    "Sprawdziliśmy też skalowalność `sklearn` (za pomocą `parallel_backend('threading', n_jobs=num_of_threads)`), jednak nie miało to istotnego przełożenia na wyniki."
   ]
  },
  {
   "cell_type": "markdown",
   "metadata": {},
   "source": [
    "## punkt b) - które implementacje są bardziej wydajne\n",
    "\n",
    "Najwydajniejszy jest `sklearn`, jednak jest to biblioteka dostosowana do zastosowań nierozproszonych. Domyślamy się, że na większej maszynie, z większą liczbą dostępnych rdzeni - niż używany do obliczeń laptop - SparkML dogoniłby SKLearn.\n",
    "\n",
    "W przypadku bibliotek rozporszonych wydajniejszy jest `sparkMl`."
   ]
  },
  {
   "cell_type": "markdown",
   "metadata": {},
   "source": [
    "## punkt c) - czy dla wszystkich modeli wystarczył ten sam pre-processing?\n",
    "\n",
    "`sklearn` wymagał rzutowania na pandasowy dataframe, pozostałe dwa nie wymagały dodatkowych działań."
   ]
  },
  {
   "cell_type": "markdown",
   "metadata": {},
   "source": [
    "### Poniżej dobieraliśmy hiperparametry za pomocą walidacji krzyżowej. W tym momencie zostało zakomentowane, ponieważ wykonanie trwa długo na naszych maszynach.\n"
   ]
  },
  {
   "cell_type": "code",
   "execution_count": 31,
   "metadata": {},
   "outputs": [],
   "source": [
    "# lr.explainParams()"
   ]
  },
  {
   "cell_type": "code",
   "execution_count": 32,
   "metadata": {},
   "outputs": [],
   "source": [
    "# from pyspark.ml.tuning import ParamGridBuilder, CrossValidator\n",
    "# param_grid = ParamGridBuilder().addGrid(lr.aggregationDepth, [2,3,4]).addGrid(lr.elasticNetParam, [0., 0.5, 1.]).build()\n",
    "# cv = CrossValidator(estimator=lr, estimatorParamMaps=param_grid, evaluator=evaluator_auroc, numFolds=4)\n",
    "# cv_model = cv.fit(training)\n",
    "# best_model = cv_model.bestModel\n",
    "# pred_cv = best_model.transform(test)\n",
    "# auroc_cv = evaluator_auroc.evaluate(pred_cv)\n",
    "# acc_cv = evaluator_acc.evaluate(pred_cv)\n",
    "# label_and_pred = pred_cv.select('label', 'prediction')\n",
    "# confusion_matrix = label_and_pred.groupBy('label', 'prediction').count().toPandas()\n",
    "# print(f\"MODEL: {model} AUROC: {auroc_cv} ACCURACY: {acc_cv} CONFUSION MATRIX: \")\n",
    "# print(confusion_matrix)\n",
    "\n",
    "\n",
    "# optymalizacja hiperparametrów nic nie daje - wybiera defaultowe \n",
    "# Wykonanie tego trwa długo - wystarczy że raz to zrobiliśmy i napiszemy tylko wniosek"
   ]
  },
  {
   "cell_type": "markdown",
   "metadata": {},
   "source": [
    ".\n",
    "\n",
    ".\n",
    "\n",
    ".\n",
    "\n",
    ".\n",
    "\n",
    ".\n",
    "\n",
    "\n",
    "\n",
    "\n",
    "# **XGB**"
   ]
  },
  {
   "cell_type": "code",
   "execution_count": 33,
   "metadata": {},
   "outputs": [],
   "source": [
    "xgb_models_train_time = {}\n",
    "xgb_models_pred_time = {}"
   ]
  },
  {
   "cell_type": "markdown",
   "metadata": {},
   "source": [
    "# **sparkMl - MLlib**"
   ]
  },
  {
   "cell_type": "code",
   "execution_count": 34,
   "metadata": {},
   "outputs": [],
   "source": [
    "from pyspark.mllib.tree import GradientBoostedTrees"
   ]
  },
  {
   "cell_type": "code",
   "execution_count": 35,
   "metadata": {},
   "outputs": [],
   "source": [
    "categoricalFeaturesInfo = {}\n",
    "\n",
    "# ta implementacja potrzebuje słownika {\"indeks kolumny\": \"liczba kategorii\"} zeby odróżnić feature'y dyskretne od continous\n",
    "for idx, column in enumerate(categorical_columns):\n",
    "    num_of_values = raw_df.select(column).distinct().count()\n",
    "    categoricalFeaturesInfo[idx] = num_of_values\n",
    "    \n",
    "# print(categoricalFeaturesInfo)"
   ]
  },
  {
   "cell_type": "code",
   "execution_count": 36,
   "metadata": {},
   "outputs": [],
   "source": [
    "#rdd = xgb_df.rdd.map(list) # to nie działa\n",
    "\n",
    "# Trzeba scastować DF na LabledPoint a niestety nie ma prostej funkcji typu '.toLabeledPoints'.\n",
    "# To co się dzieje poniżej wzięte stąd:\n",
    "# https://stackoverflow.com/questions/32556178/create-labeledpoints-from-spark-dataframe-in-python\n",
    "from pyspark.mllib.regression import LabeledPoint\n",
    "from pyspark.sql.functions import col\n",
    "\n",
    "from pyspark.mllib import linalg as mllib_linalg\n",
    "from pyspark.ml import linalg as ml_linalg\n",
    "\n",
    "def as_old(v):\n",
    "    if isinstance(v, ml_linalg.SparseVector):\n",
    "        return mllib_linalg.SparseVector(v.size, v.indices, v.values)\n",
    "    if isinstance(v, ml_linalg.DenseVector):\n",
    "        return mllib_linalg.DenseVector(v.values)\n",
    "    raise ValueError(\"Unsupported type {0}\".format(type(v)))\n",
    "\n",
    "labeledPoints = \\\n",
    "    (transformed_df.select(col(\"label\"), col(\"selectedFeatures\"))\n",
    "      .rdd\n",
    "      .map(lambda row: LabeledPoint(row.label, as_old(row.selectedFeatures))))\n",
    "\n",
    "xgb_mllib_training, xgb_mllib_test = labeledPoints.randomSplit([0.8, 0.2], seed=1234)"
   ]
  },
  {
   "cell_type": "code",
   "execution_count": 37,
   "metadata": {},
   "outputs": [],
   "source": [
    "import time\n",
    "\n",
    "start_time_training = time.time()\n",
    "xgb_mllib_model = GradientBoostedTrees.trainClassifier(\n",
    "    xgb_mllib_training, \n",
    "    categoricalFeaturesInfo=categoricalFeaturesInfo,\n",
    "    numIterations=20\n",
    ")\n",
    "xgb_models_train_time['mllib'] = time.time() - start_time_training\n",
    "\n",
    "start_time_predicting = time.time()\n",
    "mllib_predictions_rdd = xgb_mllib_model.predict(xgb_mllib_test.map(lambda x: x.features))\n",
    "xgb_models_pred_time['mllib'] = time.time() - start_time_predicting"
   ]
  },
  {
   "cell_type": "code",
   "execution_count": 38,
   "metadata": {},
   "outputs": [],
   "source": [
    "# mllib_predictions_rdd.map(lambda r: (r,)).toDF().limit(1).show()"
   ]
  },
  {
   "cell_type": "code",
   "execution_count": 40,
   "metadata": {},
   "outputs": [],
   "source": [
    "mllib_predictions = mllib_predictions_rdd.collect()\n",
    "labels = xgb_mllib_test.map(lambda x: x.label).collect()\n",
    "mllib_label_and_pred = list(zip(labels, mllib_predictions))\n",
    "mllib_label_and_pred = spark.createDataFrame(mllib_label_and_pred, [\"label\", \"prediction\"])"
   ]
  },
  {
   "cell_type": "markdown",
   "metadata": {},
   "source": [
    "# **H20 sparking water**"
   ]
  },
  {
   "cell_type": "code",
   "execution_count": 41,
   "metadata": {},
   "outputs": [],
   "source": [
    "from pysparkling.ml import H2OXGBoostClassifier # H2OXGBoost\n",
    "xgb_h20_model = H2OXGBoostClassifier(labelCol = \"label\")"
   ]
  },
  {
   "cell_type": "code",
   "execution_count": 42,
   "metadata": {},
   "outputs": [],
   "source": [
    "start_time_training = time.time()\n",
    "xgb_h20_model = xgb_h20_model.fit(training)\n",
    "xgb_models_train_time['h20'] = time.time() - start_time_training\n",
    "\n",
    "start_time_predicting = time.time()\n",
    "h20_predictions = xgb_h20_model.transform(test)\n",
    "xgb_models_pred_time['h20'] = time.time() - start_time_predicting"
   ]
  },
  {
   "cell_type": "code",
   "execution_count": 43,
   "metadata": {},
   "outputs": [],
   "source": [
    "h20_label_and_pred = h20_predictions \\\n",
    "    .select('label', 'prediction', 'detailed_prediction')\\\n",
    "    .withColumn(\"prediction\", h20_predictions.prediction.cast(\"double\"))\n",
    "\n",
    "# w celu wydobycia 'rawPrediction' na potrzeby AUROC\n",
    "def map_func(row):\n",
    "    if row.prediction == 1.0:\n",
    "        return (row.label, row.prediction, row.detailed_prediction[1][1])\n",
    "    else:\n",
    "        return (row.label, row.prediction, row.detailed_prediction[1][0])\n",
    "\n",
    "h20_label_and_pred = \\\n",
    "    h20_label_and_pred \\\n",
    "        .rdd \\\n",
    "        .map(lambda r: map_func(r)) \\\n",
    "        .toDF(['label', 'prediction', 'rawPrediction'])"
   ]
  },
  {
   "cell_type": "markdown",
   "metadata": {},
   "source": [
    "# **SynapseML**"
   ]
  },
  {
   "cell_type": "code",
   "execution_count": 44,
   "metadata": {},
   "outputs": [],
   "source": [
    "from pyspark.ml.linalg import VectorUDT\n",
    "from pyspark.sql.functions import udf\n",
    "dummy_udf = udf(lambda z: z ,VectorUDT()) \n",
    "synapse_ml_df = transformed_df.withColumn(\"selectedFeatures\", dummy_udf(col(\"selectedFeatures\")))\n",
    "# używając udf usuwamy metadata - to jedyna opcja jaka zadziałała\n",
    "\n",
    "synapse_ml_training, synapse_ml_test = synapse_ml_df[\"selectedFeatures\", \"label\"].randomSplit([0.8, 0.2], seed=1234)"
   ]
  },
  {
   "cell_type": "code",
   "execution_count": 45,
   "metadata": {},
   "outputs": [],
   "source": [
    "from synapse.ml.lightgbm import LightGBMClassifier\n",
    "\n",
    "xgb_synapse_model = LightGBMClassifier(\n",
    "    objective=\"binary\", \n",
    "    featuresCol=\"selectedFeatures\", \n",
    "    labelCol=\"label\", \n",
    "    isUnbalance=True,\n",
    ")"
   ]
  },
  {
   "cell_type": "code",
   "execution_count": 46,
   "metadata": {},
   "outputs": [],
   "source": [
    "start_time_training = time.time()\n",
    "xgb_synapse_model = xgb_synapse_model.fit(synapse_ml_training)\n",
    "xgb_models_train_time['synapse'] = time.time() - start_time_training\n",
    "\n",
    "start_time_predicting = time.time()\n",
    "synapse_predictions = xgb_synapse_model.transform(synapse_ml_test)\n",
    "xgb_models_pred_time['synapse'] = time.time() - start_time_predicting"
   ]
  },
  {
   "cell_type": "code",
   "execution_count": 47,
   "metadata": {},
   "outputs": [],
   "source": [
    "synapse_label_and_pred = synapse_predictions.select('label', 'prediction', 'rawPrediction', 'probability')"
   ]
  },
  {
   "cell_type": "markdown",
   "metadata": {},
   "source": [
    "# Liczenie metryk dla XGB"
   ]
  },
  {
   "cell_type": "code",
   "execution_count": 48,
   "metadata": {},
   "outputs": [],
   "source": [
    "xgb_models_predictions = {\"mllib\": mllib_label_and_pred, \"h20\": h20_label_and_pred, \"synapse\": synapse_label_and_pred}"
   ]
  },
  {
   "cell_type": "code",
   "execution_count": 49,
   "metadata": {},
   "outputs": [],
   "source": [
    "from pyspark.ml.evaluation import BinaryClassificationEvaluator, MulticlassClassificationEvaluator\n",
    "xgb_evaluator_auroc = BinaryClassificationEvaluator(rawPredictionCol=\"rawPrediction\", metricName=\"areaUnderROC\")\n",
    "xgb_evaluator_acc = MulticlassClassificationEvaluator(labelCol=\"label\", predictionCol=\"prediction\", metricName=\"accuracy\")"
   ]
  },
  {
   "cell_type": "code",
   "execution_count": 50,
   "metadata": {},
   "outputs": [
    {
     "name": "stdout",
     "output_type": "stream",
     "text": [
      "MODEL: mllib\n",
      "AUROC: 0 \n",
      "ACCURACY: 0.8497531983479399 \n",
      "CONFUSION MATRIX: \n",
      "   label  prediction  count\n",
      "0    1.0         1.0  16864\n",
      "1    0.0         1.0   2979\n",
      "2    1.0         0.0      4\n",
      "3    0.0         0.0      7 \n",
      "\n",
      "MODEL: h20\n",
      "AUROC: 0.6846388948658495 \n",
      "ACCURACY: 0.8531999396712081 \n",
      "CONFUSION MATRIX: \n",
      "   label  prediction  count\n",
      "0    1.0         1.0  16900\n",
      "1    0.0         1.0   2856\n",
      "2    1.0         0.0     64\n",
      "3    0.0         0.0     71 \n",
      "\n",
      "MODEL: synapse\n",
      "AUROC: 0.6866708108418583 \n",
      "ACCURACY: 0.6492886229953245 \n",
      "CONFUSION MATRIX: \n",
      "   label  prediction  count\n",
      "0    1.0         0.0   5889\n",
      "1    0.0         0.0   1840\n",
      "2    1.0         1.0  11075\n",
      "3    0.0         1.0   1087 \n",
      "\n"
     ]
    }
   ],
   "source": [
    "xgb_df_metrics = pd.DataFrame()\n",
    "for model in xgb_models_predictions:\n",
    "    print(f\"MODEL: {model}\")\n",
    "    label_and_pred = xgb_models_predictions[model]\n",
    "    confusion_matrix = label_and_pred.groupBy('label', 'prediction').count().toPandas()\n",
    "    if model == 'mllib':\n",
    "        auroc = 0\n",
    "    else:\n",
    "        auroc = xgb_evaluator_auroc.evaluate(label_and_pred)\n",
    "    \n",
    "    accuracy = xgb_evaluator_acc.evaluate(label_and_pred)\n",
    "    \n",
    "    print(f\"AUROC: {auroc} \\nACCURACY: {accuracy} \\nCONFUSION MATRIX: \\n{confusion_matrix} \\n\")\n",
    "    \n",
    "    metrics_dict = {'model': model, 'auroc': auroc, 'accuracy': accuracy}\n",
    "    xgb_df_metrics = pd.concat([xgb_df_metrics, pd.DataFrame([metrics_dict])], ignore_index=True)"
   ]
  },
  {
   "cell_type": "code",
   "execution_count": 51,
   "metadata": {},
   "outputs": [
    {
     "name": "stdout",
     "output_type": "stream",
     "text": [
      "{'mllib': 25.532210111618042, 'h20': 16.793867826461792, 'synapse': 19.857619762420654}\n",
      "{'mllib': 0.06154584884643555, 'h20': 0.035439252853393555, 'synapse': 0.09436869621276855}\n"
     ]
    }
   ],
   "source": [
    "print(xgb_models_train_time)\n",
    "print(xgb_models_pred_time)"
   ]
  },
  {
   "cell_type": "code",
   "execution_count": 52,
   "metadata": {},
   "outputs": [],
   "source": [
    "# Policzone dla e5 - średniej wielkości zbioru\n",
    "\n",
    "# dla N=1\n",
    "n_1_train = {'n': 1, 'mllib': 18.438204050064087, 'h20': 17.530575275421143, 'synapse': 16.685768365859985}\n",
    "n_1_predict = {'n': 1, 'mllib': 0.03271126747131348, 'h20': 0.018050670623779297, 'synapse': 0.044275760650634766}\n",
    "\n",
    "# dla N=2\n",
    "n_2_train = {'n': 2, 'mllib': 22.360747814178467, 'h20': 15.743622779846191, 'synapse': 12.809144496917725}\n",
    "n_2_predict = {'n': 2, 'mllib': 0.04076576232910156, 'h20': 0.05380558967590332, 'synapse': 0.043966054916381836}\n",
    "\n",
    "# dla N=4\n",
    "n_4_train = {'n': 4, 'mllib': 19.790700435638428, 'h20': 13.06553602218628, 'synapse': 9.688252925872803}\n",
    "n_4_predict = {'n': 4, 'mllib': 0.03688383102416992, 'h20': 0.06297636032104492, 'synapse': 0.04892086982727051}\n",
    "\n",
    "# dla N=6(moja [*] )\n",
    "n_6_train = {'n': 6, 'mllib': 17.05766534805298, 'h20': 11.285520553588867, 'synapse': 9.767557144165039}\n",
    "n_6_predict = {'n': 6, 'mllib': 0.04061126708984375, 'h20': 0.019430875778198242, 'synapse': 0.06539630889892578}\n",
    "\n",
    "train_times = [n_1_train, n_2_train, n_4_train, n_6_train]\n",
    "predict_times = [n_1_predict, n_2_predict, n_4_predict, n_6_predict]"
   ]
  },
  {
   "cell_type": "code",
   "execution_count": 53,
   "metadata": {},
   "outputs": [],
   "source": [
    "df_train_times = pd.DataFrame()\n",
    "for r in train_times:\n",
    "    new_row_df = pd.DataFrame([r])\n",
    "    df_train_times = pd.concat([df_train_times, new_row_df], ignore_index=True)\n",
    "\n",
    "df_predict_times = pd.DataFrame()\n",
    "for r in predict_times:\n",
    "    new_row_df = pd.DataFrame([r])\n",
    "    df_predict_times = pd.concat([df_predict_times, new_row_df], ignore_index=True)"
   ]
  },
  {
   "cell_type": "code",
   "execution_count": 54,
   "metadata": {},
   "outputs": [],
   "source": [
    "import matplotlib.pyplot as plt"
   ]
  },
  {
   "cell_type": "code",
   "execution_count": 55,
   "metadata": {},
   "outputs": [
    {
     "data": {
      "image/png": "[encoded data removed]",
      "text/plain": [
       "<Figure size 432x288 with 1 Axes>"
      ]
     },
     "metadata": {
      "needs_background": "light"
     },
     "output_type": "display_data"
    }
   ],
   "source": [
    "_ = df_train_times.plot.bar(x='n', title='Czas treningu XGB w zależności od liczby rdzeni')"
   ]
  },
  {
   "cell_type": "markdown",
   "metadata": {},
   "source": [
    "## Note: sparkMl mllib nie zwraca niczego na wzór `rawPrediction`. Nie ma sensu zrównywać tej metryki z pozostałymi modelami."
   ]
  },
  {
   "cell_type": "code",
   "execution_count": 56,
   "metadata": {},
   "outputs": [
    {
     "data": {
      "image/png": "[encoded data removed]",
      "text/plain": [
       "<Figure size 432x288 with 1 Axes>"
      ]
     },
     "metadata": {
      "needs_background": "light"
     },
     "output_type": "display_data"
    },
    {
     "data": {
      "image/png": "[encoded data removed]",
      "text/plain": [
       "<Figure size 432x288 with 1 Axes>"
      ]
     },
     "metadata": {
      "needs_background": "light"
     },
     "output_type": "display_data"
    }
   ],
   "source": [
    "_ = xgb_df_metrics.plot.bar(x='model', y='accuracy', title='accuracy - XGB', legend=None)\n",
    "_ = xgb_df_metrics.plot.bar(x='model', y='auroc', title='AUROC - XGB', legend=None)"
   ]
  },
  {
   "cell_type": "markdown",
   "metadata": {},
   "source": [
    "# **Wnioski dla XGB (pkt 5)**"
   ]
  },
  {
   "cell_type": "markdown",
   "metadata": {},
   "source": [
    "## punkt a)\n",
    "\n",
    "- `synapse` sklauje się najlepiej - czas treningu zmiejszył się o 41%\n",
    "- `h20` niewiele gorzej - czas treningu zmiejszył się o 36%\n",
    "- z `mllib` na pewno gorzej niż dwa pozostałe. Podczas zmiany liczby wątków z 1 na 2 czas wykonania wzrósł zamiast zmaleć. Wraz z kolejnym dodawaniem wątków czas spadał analogicznie do pozostałych implementacji. "
   ]
  },
  {
   "cell_type": "markdown",
   "metadata": {},
   "source": [
    "## punkt b)\n",
    "\n",
    "podobnie jak w przypadku skalowania: `synapse` najepszy, potem `h20` na końcu `mllib`."
   ]
  },
  {
   "cell_type": "markdown",
   "metadata": {},
   "source": [
    "## punkt c)\n",
    "\n",
    "- `mllib` wymagał transformacji DataFrame do RDD złożonego z `LabeledPoint`. Została wykonana zgodnei z https://stackoverflow.com/questions/32556178/create-labeledpoints-from-spark-dataframe-in-python\n",
    "- `h20` nie wymagał dodatkowych akcji\n",
    "- `synapse` wymagało modyfikacji metadanych. W metadanych kolumny wektorów cech `selectedFeatures`, były zapisane informacje o składowych kolumnach w formacie JSON, co bardzo nie podobało się `synapse`. Poradziliśmy sobie całkowitym usunięciem metadanych (co też nie było takie oczywiste, bo API do metadanych DataFrame zostało wprowadzone dopiero od wersji 3.3 Sparka)."
   ]
  },
  {
   "cell_type": "markdown",
   "metadata": {},
   "source": [
    "## Skuteczność (wniosek o modelach LR i GradientBoost)\n",
    "\n",
    "Wszystkie modele pozwalają uzyskać bardzo podobne wyniki (AUROC ~ (0.66-0.69). Automatyczna selekcja cech i optymalizacja hiperparametrów nie pozwoliły nam poprawić skuteczności modeli. Zaobserwowaliśmy niezbalansowanie klas w stosunku 1:5.71, które powoduje, że modele prawie zawsze zwracają klasę większościową. Próby walki z niezbalansowaniem klas poprzez ręczny oversampling/undersampling bądź algorytmy wbudowane w modele biblioteczne (np. deklarując isUnbalance=True w konstuktorze) pozostawiają AUROC na prawie tym samym poziomie, natomiast znacznie obniżają metrykę `accuracy`. Pozostaje nam odwołać się do klasycznej wymówki data scientista - dane nie pozwoliły więcej wycisnąć. "
   ]
  },
  {
   "cell_type": "code",
   "execution_count": 57,
   "metadata": {},
   "outputs": [],
   "source": [
    "spark.stop()"
   ]
  }
 ],
 "metadata": {
  "kernelspec": {
   "display_name": "Python 3",
   "language": "python",
   "name": "python3"
  },
  "language_info": {
   "codemirror_mode": {
    "name": "ipython",
    "version": 3
   },
   "file_extension": ".py",
   "mimetype": "text/x-python",
   "name": "python",
   "nbconvert_exporter": "python",
   "pygments_lexer": "ipython3",
   "version": "3.7.7"
  }
 },
 "nbformat": 4,
 "nbformat_minor": 5
}
